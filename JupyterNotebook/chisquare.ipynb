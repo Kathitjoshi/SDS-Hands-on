{
 "cells": [
  {
   "cell_type": "code",
   "execution_count": 3,
   "metadata": {},
   "outputs": [
    {
     "name": "stdout",
     "output_type": "stream",
     "text": [
      "Accept null hypothesis\n"
     ]
    }
   ],
   "source": [
    "import numpy as np\n",
    "from scipy.stats import chisquare\n",
    "from scipy.stats import chi2\n",
    "\n",
    "# observed frequencies\n",
    "observed = np.array([10, 15, 20, 25, 30])\n",
    "\n",
    "# expected frequencies (hypothetical)\n",
    "expected = np.array([12, 18, 22, 24, 26])\n",
    "\n",
    "chi2_stat = np.sum((observed - expected)**2 / expected)\n",
    "df = len(observed)\n",
    "critical_value = chi2.ppf(0.90, df)\n",
    "p_value = 1 - chi2.cdf(chi2_stat, df)\n",
    "if chi2_stat < critical_value:\n",
    "    print(\"Accept null hypothesis\")\n",
    "else :\n",
    "    print(\"Reject null hypothesis\")    \n"
   ]
  }
 ],
 "metadata": {
  "kernelspec": {
   "display_name": "Python 3",
   "language": "python",
   "name": "python3"
  },
  "language_info": {
   "codemirror_mode": {
    "name": "ipython",
    "version": 3
   },
   "file_extension": ".py",
   "mimetype": "text/x-python",
   "name": "python",
   "nbconvert_exporter": "python",
   "pygments_lexer": "ipython3",
   "version": "3.12.7"
  }
 },
 "nbformat": 4,
 "nbformat_minor": 2
}
