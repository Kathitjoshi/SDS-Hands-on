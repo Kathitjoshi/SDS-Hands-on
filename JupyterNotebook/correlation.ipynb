{
 "cells": [
  {
   "cell_type": "code",
   "execution_count": 4,
   "metadata": {},
   "outputs": [
    {
     "name": "stdout",
     "output_type": "stream",
     "text": [
      "Pearson Correlation Coefficient(Manual Calculation): 0.6188053895958223\n",
      "Strong Positive Correlation\n"
     ]
    }
   ],
   "source": [
    "import pandas as pd\n",
    "import numpy as np\n",
    "data={\n",
    "    'Age':[25,30,35,40,45,50,55,60,65,70],\n",
    "    'BloodPressure':[120,125,130,135,120,145,100,155,160,165],\n",
    "}\n",
    "df=pd.DataFrame(data)\n",
    "mean_x=np.mean(df['Age'])\n",
    "mean_y=np.mean(df['BloodPressure'])\n",
    "\n",
    "numerator=np.sum((df['Age']-mean_x)*(df['BloodPressure']-mean_y))\n",
    "denominator_x=np.sum((df['Age']-mean_x)**2)\n",
    "denominator_y=np.sum((df['BloodPressure']-mean_y)**2)\n",
    "pearson_corr=numerator/np.sqrt(denominator_x*denominator_y)\n",
    "print(f\"Pearson Correlation Coefficient(Manual Calculation): {pearson_corr}\")\n",
    "if pearson_corr>0:\n",
    "    if(pearson_corr>0.5):\n",
    "        print(\"Strong Positive Correlation\")\n",
    "    elif(0.5<pearson_corr<0.8):\n",
    "        print(\"Moderate Positive Correlation\")\n",
    "    else:\n",
    "        print(\"Weak Positive Correlation\")\n",
    "\n",
    "elif pearson_corr<0:\n",
    "    if pearson_corr < -0.8:\n",
    "        print(\"Strong Negative Correlation\")\n",
    "    elif -0.8 <= pearson_corr < -0.5:\n",
    "        print(\"Moderate Negative Correlation\")\n",
    "    else:\n",
    "        print(\"Weak Negative Correlation\")   \n",
    "        \n",
    "else:\n",
    "    print(\"No Correlation\")       \n",
    "        \n",
    "        \n",
    "\n",
    "\n"
   ]
  },
  {
   "cell_type": "code",
   "execution_count": null,
   "metadata": {},
   "outputs": [],
   "source": []
  }
 ],
 "metadata": {
  "kernelspec": {
   "display_name": "Python 3",
   "language": "python",
   "name": "python3"
  },
  "language_info": {
   "codemirror_mode": {
    "name": "ipython",
    "version": 3
   },
   "file_extension": ".py",
   "mimetype": "text/x-python",
   "name": "python",
   "nbconvert_exporter": "python",
   "pygments_lexer": "ipython3",
   "version": "3.12.7"
  }
 },
 "nbformat": 4,
 "nbformat_minor": 2
}
